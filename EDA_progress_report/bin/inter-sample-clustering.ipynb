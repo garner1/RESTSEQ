{
 "cells": [
  {
   "cell_type": "code",
   "execution_count": 6,
   "metadata": {
    "collapsed": false
   },
   "outputs": [],
   "source": [
    "import matplotlib.pyplot as plt\n",
    "import pandas as pd #this is how I usually import pandas\n",
    "import sys #only needed to determine Python version number\n",
    "import seaborn as sns"
   ]
  },
  {
   "cell_type": "code",
   "execution_count": 19,
   "metadata": {
    "collapsed": false
   },
   "outputs": [],
   "source": [
    "Location1 = r'/home/garner1/SparkleShare/RESTSEQ/EDA_progress_report/data/SKBR3_XZ1617'\n",
    "df1 = pd.read_table(Location1, header=None, names=['chr','start','end','count'])\n",
    "Location2 = r'/home/garner1/SparkleShare/RESTSEQ/EDA_progress_report/data/SKBR3_NC88'\n",
    "df2 = pd.read_table(Location2, header=None, names=['chr','start','end','count'])\n",
    "Location3 = r'/home/garner1/SparkleShare/RESTSEQ/EDA_progress_report/data/SKBR3_NC89'\n",
    "df3 = pd.read_table(Location3, header=None, names=['chr','start','end','count'])\n",
    "Location4 = r'/home/garner1/SparkleShare/RESTSEQ/EDA_progress_report/data/SKBR3_NC26'\n",
    "df4 = pd.read_table(Location4, header=None)\n",
    "\n",
    "Location5 = r'/home/garner1/SparkleShare/RESTSEQ/EDA_progress_report/data/IMR90_NC24'\n",
    "df5 = pd.read_table(Location5, header=None)\n",
    "Location6 = r'/home/garner1/SparkleShare/RESTSEQ/EDA_progress_report/data/IMR90_NC25'\n",
    "df6 = pd.read_table(Location6, header=None)\n",
    "\n",
    "Location7 = r'/home/garner1/SparkleShare/RESTSEQ/EDA_progress_report/data/BREAST884511_XZ23'\n",
    "df7 = pd.read_table(Location7, header=None)\n",
    "Location8 = r'/home/garner1/SparkleShare/RESTSEQ/EDA_progress_report/data/BREAST884511_XZ24'\n",
    "df8 = pd.read_table(Location8, header=None)\n",
    "Location9 = r'/home/garner1/SparkleShare/RESTSEQ/EDA_progress_report/data/BREAST884511_XZ32CATCATCC'\n",
    "df9 = pd.read_table(Location9, header=None)\n",
    "\n",
    "Location10 = r'/home/garner1/SparkleShare/RESTSEQ/EDA_progress_report/data/BREAST853310_XZ18GTCGTCGC'\n",
    "df10 = pd.read_table(Location10, header=None)\n",
    "Location11 = r'/home/garner1/SparkleShare/RESTSEQ/EDA_progress_report/data/BREAST853310_XZ32GTCGTCGC'\n",
    "df11 = pd.read_table(Location11, header=None)\n",
    "\n",
    "Location12 = r'/home/garner1/SparkleShare/RESTSEQ/EDA_progress_report/data/BREAST395411_XZ18CATCACGC'\n",
    "df12 = pd.read_table(Location12, header=None)\n",
    "Location13 = r'/home/garner1/SparkleShare/RESTSEQ/EDA_progress_report/data/BREAST395411_XZ32CATCACGC'\n",
    "df13 = pd.read_table(Location13, header=None)\n",
    "\n",
    "Location14 = r'/home/garner1/SparkleShare/RESTSEQ/EDA_progress_report/data/KIDNEY59914_NC105'\n",
    "df14 = pd.read_table(Location14, header=None)\n",
    "\n",
    "Location15 = r'/home/garner1/SparkleShare/RESTSEQ/EDA_progress_report/data/BREAST1343614_XZ30'\n",
    "df15 = pd.read_table(Location15, header=None)"
   ]
  },
  {
   "cell_type": "code",
   "execution_count": null,
   "metadata": {
    "collapsed": true
   },
   "outputs": [],
   "source": []
  }
 ],
 "metadata": {
  "kernelspec": {
   "display_name": "Python 2",
   "language": "python",
   "name": "python2"
  },
  "language_info": {
   "codemirror_mode": {
    "name": "ipython",
    "version": 2
   },
   "file_extension": ".py",
   "mimetype": "text/x-python",
   "name": "python",
   "nbconvert_exporter": "python",
   "pygments_lexer": "ipython2",
   "version": "2.7.12"
  }
 },
 "nbformat": 4,
 "nbformat_minor": 0
}
