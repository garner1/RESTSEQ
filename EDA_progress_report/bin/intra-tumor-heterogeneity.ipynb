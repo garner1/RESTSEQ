{
 "cells": [
  {
   "cell_type": "code",
   "execution_count": 37,
   "metadata": {
    "collapsed": false
   },
   "outputs": [],
   "source": [
    "import numpy \n",
    "import pandas \n",
    "from  matplotlib import pyplot as plt\n",
    "import seaborn\n",
    "seaborn.set(style='ticks')\n",
    "\n",
    "Location = r'/home/garner1/SparkleShare/RESTSEQ/bin/module/output_XZ2324__allPairs_q10_res100K.bed'\n",
    "df = pandas.read_table(Location, header=None, names=['file1','file2','dist','count_1','count_2','mean']);\n",
    "\n",
    "#for ind in range(11,20):\n",
    "#    fg = seaborn.FacetGrid(data=df[df['count_1']>=1][df['count_2']>=1][df['file1']==df['file1'].unique()[ind]],hue=None)\n",
    "#    fg.map(plt.scatter, 'mean', 'dist')\n",
    "fg = seaborn.FacetGrid(data=df,hue=None)\n",
    "fg.map(plt.scatter, 'mean', 'dist')\n",
    "plt.show()\n"
   ]
  },
  {
   "cell_type": "markdown",
   "metadata": {},
   "source": [
    "Fixing one barcode of the pair, the curves behaves in two ways: either they tend to 0,"
   ]
  },
  {
   "cell_type": "code",
   "execution_count": 35,
   "metadata": {
    "collapsed": false
   },
   "outputs": [
    {
     "data": {
      "text/plain": [
       "[11, 12, 13, 14, 15, 16, 17, 18, 19]"
      ]
     },
     "execution_count": 35,
     "metadata": {},
     "output_type": "execute_result"
    }
   ],
   "source": [
    "range(11,20)"
   ]
  }
 ],
 "metadata": {
  "kernelspec": {
   "display_name": "Python 2",
   "language": "python",
   "name": "python2"
  },
  "language_info": {
   "codemirror_mode": {
    "name": "ipython",
    "version": 2
   },
   "file_extension": ".py",
   "mimetype": "text/x-python",
   "name": "python",
   "nbconvert_exporter": "python",
   "pygments_lexer": "ipython2",
   "version": "2.7.12"
  }
 },
 "nbformat": 4,
 "nbformat_minor": 0
}
