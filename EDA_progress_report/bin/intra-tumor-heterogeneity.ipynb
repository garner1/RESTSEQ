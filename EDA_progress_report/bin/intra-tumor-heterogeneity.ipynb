{
 "cells": [
  {
   "cell_type": "code",
   "execution_count": null,
   "metadata": {
    "collapsed": true
   },
   "outputs": [],
   "source": [
    "import numpy \n",
    "import pandas \n",
    "from  matplotlib import pyplot\n",
    "import seaborn\n",
    "seaborn.set(style='ticks')\n",
    "\n",
    "numpy.random.seed(0)\n",
    "N = 37\n",
    "_genders= ['Female', 'Male', 'Non-binary', 'No Response']\n",
    "df = pandas.DataFrame({\n",
    "    'Height (cm)': numpy.random.uniform(low=130, high=200, size=N),\n",
    "    'Weight (kg)': numpy.random.uniform(low=30, high=100, size=N),\n",
    "    'Gender': numpy.random.choice(_genders, size=N)\n",
    "})\n",
    "\n",
    "df = pandas.read_table(Location15, header=None, names=['chr','start','end','count'])\n",
    "\n",
    "fg = seaborn.FacetGrid(data=df, hue='Gender', hue_order=_genders, aspect=1.61)\n",
    "fg.map(pyplot.scatter, 'Weight (kg)', 'Height (cm)').add_legend()"
   ]
  }
 ],
 "metadata": {
  "kernelspec": {
   "display_name": "Python 2",
   "language": "python",
   "name": "python2"
  },
  "language_info": {
   "codemirror_mode": {
    "name": "ipython",
    "version": 2
   },
   "file_extension": ".py",
   "mimetype": "text/x-python",
   "name": "python",
   "nbconvert_exporter": "python",
   "pygments_lexer": "ipython2",
   "version": "2.7.12"
  }
 },
 "nbformat": 4,
 "nbformat_minor": 0
}
