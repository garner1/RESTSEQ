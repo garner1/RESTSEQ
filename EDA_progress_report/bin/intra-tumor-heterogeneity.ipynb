{
 "cells": [
  {
   "cell_type": "code",
   "execution_count": 42,
   "metadata": {
    "collapsed": false
   },
   "outputs": [],
   "source": [
    "import numpy as np\n",
    "import pandas \n",
    "from  matplotlib import pyplot as plt\n",
    "import seaborn\n",
    "seaborn.set(style='ticks')\n",
    "\n",
    "Location = r'/home/garner1/SparkleShare/RESTSEQ/bin/module/output_XZ2324__allPairs_q10_res100K.bed'\n",
    "df = pandas.read_table(Location, header=None, names=['file1','file2','dist','count_1','count_2','mean']);\n",
    "\n",
    "#for ind in range(11,20):\n",
    "#    fg = seaborn.FacetGrid(data=df[df['count_1']>=1][df['count_2']>=1][df['file1']==df['file1'].unique()[ind]],hue=None)\n",
    "#    fg.map(plt.scatter, 'mean', 'dist')\n",
    "\n",
    "fg = seaborn.FacetGrid(data=df,hue=None)\n",
    "fg.map(plt.scatter, 'mean', 'dist')\n",
    "plt.show()\n"
   ]
  },
  {
   "cell_type": "code",
   "execution_count": null,
   "metadata": {
    "collapsed": false
   },
   "outputs": [],
   "source": [
    "from mpl_toolkits.mplot3d import Axes3D\n",
    "fig = plt.figure()\n",
    "ax = Axes3D(fig)\n",
    "\n",
    "threshold = 1\n",
    "sequence_containing_x_vals = df[df['count_1']>=threshold][df['count_2']>=threshold][df['dist']>=0.01]['count_1']\n",
    "sequence_containing_y_vals = df[df['count_1']>=threshold][df['count_2']>=threshold][df['dist']>=0.01]['count_2']\n",
    "sequence_containing_z_vals = df[df['count_1']>=threshold][df['count_2']>=threshold][df['dist']>=0.01]['dist']\n",
    "\n",
    "ax.scatter(np.log(sequence_containing_x_vals), np.log(sequence_containing_y_vals), np.log(sequence_containing_z_vals))\n",
    "\n",
    "plt.show()"
   ]
  }
 ],
 "metadata": {
  "kernelspec": {
   "display_name": "Python 2",
   "language": "python",
   "name": "python2"
  },
  "language_info": {
   "codemirror_mode": {
    "name": "ipython",
    "version": 2
   },
   "file_extension": ".py",
   "mimetype": "text/x-python",
   "name": "python",
   "nbconvert_exporter": "python",
   "pygments_lexer": "ipython2",
   "version": "2.7.12"
  }
 },
 "nbformat": 4,
 "nbformat_minor": 0
}
