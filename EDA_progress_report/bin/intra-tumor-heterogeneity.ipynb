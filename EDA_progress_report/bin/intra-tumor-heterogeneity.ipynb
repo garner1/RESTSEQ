{
 "cells": [
  {
   "cell_type": "code",
   "execution_count": null,
   "metadata": {
    "collapsed": false
   },
   "outputs": [],
   "source": [
    "import numpy \n",
    "import pandas \n",
    "from  matplotlib import pyplot as plt\n",
    "import seaborn\n",
    "seaborn.set(style='ticks')\n",
    "\n",
    "# numpy.random.seed(0)\n",
    "# N = 37\n",
    "# _genders= ['Female', 'Male', 'Non-binary', 'No Response']\n",
    "# df = pandas.DataFrame({\n",
    "#     'Height (cm)': numpy.random.uniform(low=130, high=200, size=N),\n",
    "#     'Weight (kg)': numpy.random.uniform(low=30, high=100, size=N),\n",
    "#     'Gender': numpy.random.choice(_genders, size=N)\n",
    "# })\n",
    "\n",
    "Location = r'/home/garner1/SparkleShare/RESTSEQ/bin/module/output_XZ2324__allPairs_q10_res100K.bed'\n",
    "df = pandas.read_table(Location, header=None, names=['file1','file2','dist','count_1','count_2','mean']);\n",
    "\n",
    "fg = seaborn.FacetGrid(data=df[df['count_1']>=1000][df['count_2']>=1000], hue='file1')\n",
    "fg.map(plt.scatter, 'mean', 'dist')#.add_legend()\n",
    "plt.show()"
   ]
  }
 ],
 "metadata": {
  "kernelspec": {
   "display_name": "Python 2",
   "language": "python",
   "name": "python2"
  },
  "language_info": {
   "codemirror_mode": {
    "name": "ipython",
    "version": 2
   },
   "file_extension": ".py",
   "mimetype": "text/x-python",
   "name": "python",
   "nbconvert_exporter": "python",
   "pygments_lexer": "ipython2",
   "version": "2.7.12"
  }
 },
 "nbformat": 4,
 "nbformat_minor": 0
}
