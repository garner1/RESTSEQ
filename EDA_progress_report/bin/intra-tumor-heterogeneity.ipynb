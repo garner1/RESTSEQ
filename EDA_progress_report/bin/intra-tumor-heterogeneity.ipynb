{
 "cells": [
  {
   "cell_type": "code",
   "execution_count": 28,
   "metadata": {
    "collapsed": false
   },
   "outputs": [],
   "source": [
    "import numpy \n",
    "import pandas \n",
    "from  matplotlib import pyplot as plt\n",
    "import seaborn\n",
    "seaborn.set(style='ticks')\n",
    "\n",
    "Location = r'/home/garner1/SparkleShare/RESTSEQ/bin/module/output_XZ2324__allPairs_q10_res100K.bed'\n",
    "df = pandas.read_table(Location, header=None, names=['file1','file2','dist','count_1','count_2','mean']);\n",
    "\n",
    "for ind in range(10):\n",
    "    fg = seaborn.FacetGrid(data=df[df['count_1']>=1000][df['count_2']>=1000][df['file1']==df['file1'].unique()[numpy.random.randint(len(df))]],hue=None)\n",
    "    fg.map(plt.scatter, 'mean', 'dist')\n",
    "plt.show()\n"
   ]
  },
  {
   "cell_type": "code",
   "execution_count": 32,
   "metadata": {
    "collapsed": false
   },
   "outputs": [
    {
     "data": {
      "text/plain": [
       "'/home/garner1/Work/dataset/restseq/xz23_24/XZ2324_cutsite_dist_strand_qScore_UMI_count__ACGACATC_q1.bed'"
      ]
     },
     "execution_count": 32,
     "metadata": {},
     "output_type": "execute_result"
    }
   ],
   "source": [
    "df['file1'].unique()[0]"
   ]
  }
 ],
 "metadata": {
  "kernelspec": {
   "display_name": "Python 2",
   "language": "python",
   "name": "python2"
  },
  "language_info": {
   "codemirror_mode": {
    "name": "ipython",
    "version": 2
   },
   "file_extension": ".py",
   "mimetype": "text/x-python",
   "name": "python",
   "nbconvert_exporter": "python",
   "pygments_lexer": "ipython2",
   "version": "2.7.12"
  }
 },
 "nbformat": 4,
 "nbformat_minor": 0
}
