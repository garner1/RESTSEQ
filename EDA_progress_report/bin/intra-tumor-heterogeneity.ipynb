{
 "cells": [
  {
   "cell_type": "code",
   "execution_count": null,
   "metadata": {
    "collapsed": false
   },
   "outputs": [],
   "source": [
    "import numpy as np\n",
    "import pandas \n",
    "from  matplotlib import pyplot as plt\n",
    "import seaborn\n",
    "seaborn.set(style='ticks')\n",
    "\n",
    "# Location = r'/home/garner1/SparkleShare/RESTSEQ/bin/module/output_XZ2324__allPairs_q10_res100K.bed'\n",
    "Location = r'/home/garner1/SparkleShare/RESTSEQ/bin/module/data-noise_q10_res100K.bed'\n",
    "# Location = r'/home/garner1/SparkleShare/RESTSEQ/bin/module/data-noise_q10_res1M.bed'\n",
    "\n",
    "df = pandas.read_table(Location, header=None, names=['file1','file2','dist','count_1','count_2','mean','origin']);\n",
    "# df = pandas.read_table(Location, header=None, names=['file1','file2','dist','count_1','count_2','mean']);\n",
    "\n",
    "#for ind in range(11,20):\n",
    "#    fg = seaborn.FacetGrid(data=df[df['count_1']>=1][df['count_2']>=1][df['file1']==df['file1'].unique()[ind]],hue=None)\n",
    "#    fg.map(plt.scatter, 'mean', 'dist')\n",
    "\n",
    "# fg = seaborn.FacetGrid(data=df,hue='count_2')\n",
    "fg = seaborn.FacetGrid(data=df[df['count_1']>=100000][df['count_2']>=100000],hue='origin')\n",
    "fg.map(plt.scatter, 'count_1', 'dist')#.add_legend()\n",
    "plt.show()\n"
   ]
  },
  {
   "cell_type": "code",
   "execution_count": 96,
   "metadata": {
    "collapsed": false
   },
   "outputs": [],
   "source": [
    "import numpy as np\n",
    "import pandas \n",
    "from  matplotlib import pyplot as plt\n",
    "import seaborn\n",
    "seaborn.set(style='ticks')\n",
    "\n",
    "Location = r'/home/garner1/SparkleShare/RESTSEQ/bin/module/output_XZ2324__allPairs_q10_res100K.bed'\n",
    "# Location = r'/home/garner1/SparkleShare/RESTSEQ/bin/module/data-noise_q10_res100K.bed'\n",
    "# Location = r'/home/garner1/SparkleShare/RESTSEQ/bin/module/data-noise_q10_res1M.bed'\n",
    "# df = pandas.read_table(Location, header=None, names=['file1','file2','dist','count_1','count_2','mean','origin']);\n",
    "df = pandas.read_table(Location, header=None, names=['file1','file2','dist','count_1','count_2','mean']);\n",
    "\n",
    "from mpl_toolkits.mplot3d import Axes3D\n",
    "fig = plt.figure()\n",
    "ax = Axes3D(fig)\n",
    "\n",
    "min_count = 1\n",
    "min_dist = 0\n",
    "x = df[df['count_1']>=min_count][df['count_2']>=min_count][df['dist']>=min_dist]['count_1']\n",
    "y = df[df['count_1']>=min_count][df['count_2']>=min_count][df['dist']>=min_dist]['count_2']\n",
    "z = df[df['count_1']>=min_count][df['count_2']>=min_count][df['dist']>=min_dist]['dist']\n",
    "\n",
    "ax.scatter(x, y, z)\n",
    "\n",
    "plt.show()"
   ]
  },
  {
   "cell_type": "code",
   "execution_count": null,
   "metadata": {
    "collapsed": false
   },
   "outputs": [],
   "source": [
    "from mpl_toolkits.mplot3d import Axes3D\n",
    "fig = plt.figure()\n",
    "ax = Axes3D(fig)\n",
    "\n",
    "min_count = 1000\n",
    "min_dist = 0.001\n",
    "x = df[df['count_1']>=min_count][df['count_2']>=min_count][df['dist']>=min_dist]['count_1']\n",
    "y = df[df['count_1']>=min_count][df['count_2']>=min_count][df['dist']>=min_dist]['count_2']\n",
    "z = df[df['count_1']>=min_count][df['count_2']>=min_count][df['dist']>=min_dist]['dist']\n",
    "\n",
    "ax.scatter(np.log(x), np.log(y), np.log(z))\n",
    "\n",
    "plt.show()"
   ]
  }
 ],
 "metadata": {
  "kernelspec": {
   "display_name": "Python 2",
   "language": "python",
   "name": "python2"
  },
  "language_info": {
   "codemirror_mode": {
    "name": "ipython",
    "version": 2
   },
   "file_extension": ".py",
   "mimetype": "text/x-python",
   "name": "python",
   "nbconvert_exporter": "python",
   "pygments_lexer": "ipython2",
   "version": "2.7.12"
  }
 },
 "nbformat": 4,
 "nbformat_minor": 0
}
