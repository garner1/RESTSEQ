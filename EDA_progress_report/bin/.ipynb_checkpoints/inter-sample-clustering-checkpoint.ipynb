{
 "cells": [
  {
   "cell_type": "code",
   "execution_count": 6,
   "metadata": {
    "collapsed": false
   },
   "outputs": [],
   "source": [
    "import matplotlib.pyplot as plt\n",
    "import pandas as pd #this is how I usually import pandas\n",
    "import sys #only needed to determine Python version number\n",
    "import seaborn as sns"
   ]
  },
  {
   "cell_type": "code",
   "execution_count": 20,
   "metadata": {
    "collapsed": false
   },
   "outputs": [],
   "source": [
    "Location1 = r'/home/garner1/SparkleShare/RESTSEQ/EDA_progress_report/data/SKBR3_XZ1617'\n",
    "df1 = pd.read_table(Location1, header=None, names=['chr','start','end','count'])\n",
    "Location2 = r'/home/garner1/SparkleShare/RESTSEQ/EDA_progress_report/data/SKBR3_NC88'\n",
    "df2 = pd.read_table(Location2, header=None, names=['chr','start','end','count'])\n",
    "Location3 = r'/home/garner1/SparkleShare/RESTSEQ/EDA_progress_report/data/SKBR3_NC89'\n",
    "df3 = pd.read_table(Location3, header=None, names=['chr','start','end','count'])\n",
    "Location4 = r'/home/garner1/SparkleShare/RESTSEQ/EDA_progress_report/data/SKBR3_NC26'\n",
    "df4 = pd.read_table(Location4, header=None, names=['chr','start','end','count'])\n",
    "\n",
    "Location5 = r'/home/garner1/SparkleShare/RESTSEQ/EDA_progress_report/data/IMR90_NC24'\n",
    "df5 = pd.read_table(Location5, header=None, names=['chr','start','end','count'])\n",
    "Location6 = r'/home/garner1/SparkleShare/RESTSEQ/EDA_progress_report/data/IMR90_NC25'\n",
    "df6 = pd.read_table(Location6, header=None, names=['chr','start','end','count'])\n",
    "\n",
    "Location7 = r'/home/garner1/SparkleShare/RESTSEQ/EDA_progress_report/data/BREAST884511_XZ23'\n",
    "df7 = pd.read_table(Location7, header=None, names=['chr','start','end','count'])\n",
    "Location8 = r'/home/garner1/SparkleShare/RESTSEQ/EDA_progress_report/data/BREAST884511_XZ24'\n",
    "df8 = pd.read_table(Location8, header=None, names=['chr','start','end','count'])\n",
    "Location9 = r'/home/garner1/SparkleShare/RESTSEQ/EDA_progress_report/data/BREAST884511_XZ32CATCATCC'\n",
    "df9 = pd.read_table(Location9, header=None, names=['chr','start','end','count'])\n",
    "\n",
    "Location10 = r'/home/garner1/SparkleShare/RESTSEQ/EDA_progress_report/data/BREAST853310_XZ18GTCGTCGC'\n",
    "df10 = pd.read_table(Location10, header=None, names=['chr','start','end','count'])\n",
    "Location11 = r'/home/garner1/SparkleShare/RESTSEQ/EDA_progress_report/data/BREAST853310_XZ32GTCGTCGC'\n",
    "df11 = pd.read_table(Location11, header=None, names=['chr','start','end','count'])\n",
    "\n",
    "Location12 = r'/home/garner1/SparkleShare/RESTSEQ/EDA_progress_report/data/BREAST395411_XZ18CATCACGC'\n",
    "df12 = pd.read_table(Location12, header=None, names=['chr','start','end','count'])\n",
    "Location13 = r'/home/garner1/SparkleShare/RESTSEQ/EDA_progress_report/data/BREAST395411_XZ32CATCACGC'\n",
    "df13 = pd.read_table(Location13, header=None, names=['chr','start','end','count'])\n",
    "\n",
    "Location14 = r'/home/garner1/SparkleShare/RESTSEQ/EDA_progress_report/data/KIDNEY59914_NC105'\n",
    "df14 = pd.read_table(Location14, header=None, names=['chr','start','end','count'])\n",
    "\n",
    "Location15 = r'/home/garner1/SparkleShare/RESTSEQ/EDA_progress_report/data/BREAST1343614_XZ30'\n",
    "df15 = pd.read_table(Location15, header=None, names=['chr','start','end','count'])"
   ]
  },
  {
   "cell_type": "code",
   "execution_count": 29,
   "metadata": {
    "collapsed": false
   },
   "outputs": [
    {
     "data": {
      "text/html": [
       "<div>\n",
       "<table border=\"1\" class=\"dataframe\">\n",
       "  <thead>\n",
       "    <tr style=\"text-align: right;\">\n",
       "      <th></th>\n",
       "    </tr>\n",
       "  </thead>\n",
       "  <tbody>\n",
       "    <tr>\n",
       "      <th>SKBR3_XZ1617</th>\n",
       "    </tr>\n",
       "    <tr>\n",
       "      <th>SKBR3_NC88</th>\n",
       "    </tr>\n",
       "    <tr>\n",
       "      <th>SKBR3_NC89</th>\n",
       "    </tr>\n",
       "    <tr>\n",
       "      <th>SKBR3_NC26</th>\n",
       "    </tr>\n",
       "    <tr>\n",
       "      <th>IMR90_NC24</th>\n",
       "    </tr>\n",
       "    <tr>\n",
       "      <th>IMR90_NC25</th>\n",
       "    </tr>\n",
       "    <tr>\n",
       "      <th>BREAST884511_XZ23</th>\n",
       "    </tr>\n",
       "    <tr>\n",
       "      <th>BREAST884511_XZ24</th>\n",
       "    </tr>\n",
       "    <tr>\n",
       "      <th>BREAST884511_XZ32CATCATCC</th>\n",
       "    </tr>\n",
       "    <tr>\n",
       "      <th>BREAST853310_XZ18GTCGTCGC</th>\n",
       "    </tr>\n",
       "    <tr>\n",
       "      <th>BREAST853310_XZ32GTCGTCGC</th>\n",
       "    </tr>\n",
       "    <tr>\n",
       "      <th>BREAST395411_XZ18CATCACGC</th>\n",
       "    </tr>\n",
       "    <tr>\n",
       "      <th>BREAST395411_XZ32CATCACGC</th>\n",
       "    </tr>\n",
       "    <tr>\n",
       "      <th>KIDNEY59914_NC105</th>\n",
       "    </tr>\n",
       "    <tr>\n",
       "      <th>BREAST1343614_XZ30</th>\n",
       "    </tr>\n",
       "  </tbody>\n",
       "</table>\n",
       "</div>"
      ],
      "text/plain": [
       "Empty DataFrame\n",
       "Columns: []\n",
       "Index: [SKBR3_XZ1617, SKBR3_NC88, SKBR3_NC89, SKBR3_NC26, IMR90_NC24, IMR90_NC25, BREAST884511_XZ23, BREAST884511_XZ24, BREAST884511_XZ32CATCATCC, BREAST853310_XZ18GTCGTCGC, BREAST853310_XZ32GTCGTCGC, BREAST395411_XZ18CATCACGC, BREAST395411_XZ32CATCACGC, KIDNEY59914_NC105, BREAST1343614_XZ30]"
      ]
     },
     "execution_count": 29,
     "metadata": {},
     "output_type": "execute_result"
    }
   ],
   "source": [
    "index = ['SKBR3_XZ1617','SKBR3_NC88','SKBR3_NC89','SKBR3_NC26','IMR90_NC24','IMR90_NC25','BREAST884511_XZ23','BREAST884511_XZ24','BREAST884511_XZ32CATCATCC','BREAST853310_XZ18GTCGTCGC','BREAST853310_XZ32GTCGTCGC','BREAST395411_XZ18CATCACGC','BREAST395411_XZ32CATCACGC','KIDNEY59914_NC105','BREAST1343614_XZ30']\n",
    "df = pd.DataFrame( index=index)\n"
   ]
  }
 ],
 "metadata": {
  "kernelspec": {
   "display_name": "Python 2",
   "language": "python",
   "name": "python2"
  },
  "language_info": {
   "codemirror_mode": {
    "name": "ipython",
    "version": 2
   },
   "file_extension": ".py",
   "mimetype": "text/x-python",
   "name": "python",
   "nbconvert_exporter": "python",
   "pygments_lexer": "ipython2",
   "version": "2.7.12"
  }
 },
 "nbformat": 4,
 "nbformat_minor": 0
}
