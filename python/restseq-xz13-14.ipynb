{
 "cells": [
  {
   "cell_type": "code",
   "execution_count": null,
   "metadata": {
    "collapsed": false
   },
   "outputs": [],
   "source": [
    "%load_ext autoreload\n",
    "%autoreload 2\n",
    "from module import *\n",
    "\n",
    "'''Experiment is xz_13_14 '''\n",
    "exp = 'xz_13_14'\n",
    "'''groupby can be {none,13-14-reduced}:'''\n",
    "# groupby = 'none'\n",
    "groupby = '13-14-reduced'\n",
    "resolution = 10000000\n",
    "RC_threshold = 0\n",
    "\n",
    "positionlist,chromlist,border = structure_genome(resolution)\n",
    "X,index0_list,index1_list,index2_list,index3_list = load_data(exp,resolution,positionlist)\n",
    "X_df,X_red_df,X,zero_col = load_RCdf(X,exp,chromlist,positionlist,groupby,RC_threshold,index0_list,index1_list,index2_list,index3_list)"
   ]
  },
  {
   "cell_type": "code",
   "execution_count": null,
   "metadata": {
    "collapsed": false
   },
   "outputs": [],
   "source": [
    "'''\n",
    "Estimate the percentage of nnz elements in XX\n",
    "'''\n",
    "print 'The percentage of nnz entries in X is:', np.count_nonzero(X)*1.0/(X.shape[0]*X.shape[1])*100,'%'\n",
    "print 'The dimension of X are:', X.shape"
   ]
  },
  {
   "cell_type": "code",
   "execution_count": null,
   "metadata": {
    "collapsed": false
   },
   "outputs": [],
   "source": [
    "X_filled_softimpute = impute(X,zero_col)\n",
    "X_filled_normalized_df,X_filled_df = normalize(X_filled_softimpute,X_red_df) "
   ]
  },
  {
   "cell_type": "code",
   "execution_count": null,
   "metadata": {
    "collapsed": false
   },
   "outputs": [],
   "source": [
    "'''Hierarchical cluster'''\n",
    "import matplotlib.pyplot as plt\n",
    "import seaborn as sns\n",
    "\n",
    "method = 'average'\n",
    "metric = 'euclidean'\n",
    "\n",
    "# xticklabels=[]\n",
    "g = sns.clustermap(X_filled_normalized_df,method=method,metric=metric,col_cluster=False,\\\n",
    "                  linewidths=0.0,cmap='Greys')\n",
    "\n",
    "plt.title('Exp'+str(exp)+'res10M'+'_'+'GroupBy'+str(groupby)+'_'+'Threshold'+str(RC_threshold))\n",
    "\n",
    "plt.setp(g.ax_heatmap.yaxis.get_majorticklabels(), rotation=0)\n",
    "plt.setp(g.ax_heatmap.xaxis.get_majorticklabels(), rotation=90)\n",
    "\n",
    "plt.setp(g.ax_heatmap.set_xticks(border))\n",
    "\n",
    "for i in border:\n",
    "    plt.setp(g.ax_heatmap.axvline(i,c=\"r\",lw=0.1))\n",
    "plt.show()\n",
    "\n",
    "g.savefig('ExpXZ1314_res10M'+'_'+'GroupBy'+str(groupby)+'_'+'Threshold'+str(RC_threshold)+'.png')"
   ]
  },
  {
   "cell_type": "code",
   "execution_count": null,
   "metadata": {
    "collapsed": true
   },
   "outputs": [],
   "source": [
    "shannon_df_xz1314,shannon_df_xz13,shannon_df_xz14 = shannonDF(X_filled_df)\n",
    "totalRC_df_xz1314,totalRC_df_xz13,totalRC_df_xz14 = readcountDF(X_filled_df) \n",
    "delta_df_xz1314,delta_df_xz13,delta_df_xz14 = NNdistDF(X_filled_df,shannon_df_xz1314,shannon_df_xz13,shannon_df_xz14,totalRC_df_xz1314,totalRC_df_xz13,totalRC_df_xz14)  \n",
    "fluctuation_df_xz1314,fluctuation_df_xz13,fluctuation_df_xz14 = fluctuationDF(X_filled_df,X_filled_softimpute)"
   ]
  },
  {
   "cell_type": "code",
   "execution_count": null,
   "metadata": {
    "collapsed": false
   },
   "outputs": [],
   "source": [
    "local_fluctuation_df = local_fluctuationsDF(X_filled_df)"
   ]
  },
  {
   "cell_type": "code",
   "execution_count": null,
   "metadata": {
    "collapsed": false
   },
   "outputs": [],
   "source": [
    "'''\n",
    "Distribution of fluctuations\n",
    "'''\n",
    "import matplotlib.pyplot as plt\n",
    "import seaborn as sns\n",
    "plt.figure(1)\n",
    "# arr = delta_df_xz13.values\n",
    "# g1 = sns.distplot(arr[arr>0],label='xz13')\n",
    "# arr = delta_df_xz14.values\n",
    "# g2 = sns.distplot(arr[arr>0],label='xz14')\n",
    "arr = local_fluctuation_df.values\n",
    "g3 = sns.distplot(arr[arr>0],label='local')\n",
    "arr = delta_df_xz1314.values\n",
    "g4 = sns.distplot(arr[arr>0],label='xz1314')\n",
    "plt.legend()\n",
    "plt.title('Distributions of local fluctuations and threshold:'+str(RC_threshold))\n",
    "\n",
    "# plt.figure(2)\n",
    "# arr = fluctuation_df_xz13.values\n",
    "# g1 = sns.distplot(arr[arr>0],label='xz13')\n",
    "# arr = fluctuation_df_xz14.values\n",
    "# g2 = sns.distplot(arr[arr>0],label='xz14')\n",
    "# arr = fluctuation_df_xz1314.values\n",
    "# g3 = sns.distplot(arr[arr>0],label='xz1314')\n",
    "# plt.legend()\n",
    "# plt.title('Distributions of fluctuations from the mean and threshold:'+str(RC_threshold))\n",
    "\n",
    "plt.show()"
   ]
  },
  {
   "cell_type": "code",
   "execution_count": null,
   "metadata": {
    "collapsed": false
   },
   "outputs": [],
   "source": [
    "'''\n",
    "Spatial vs Genomic correlation.\n",
    "The plot suggests that there is a short scale distance at which cells typically are more dissimilar increasing their\n",
    "distance, then after a threshold distance they start to be more alike, as in the linear sequence: \n",
    "0,1,2,0,1,2,0,1,2....\n",
    "Like there was a periodic pattern in the functinal space, which could correspond to the size of the clones\n",
    "'''\n",
    "def spatialDist(row0,col0,row1,col1):\n",
    "#     return np.sqrt( abs(ord(row0)-ord(row1))**2 + abs(int(col0)-int(col1))**2 )\n",
    "    return abs(ord(row0)-ord(row1)) + abs(int(col0)-int(col1))\n",
    "\n",
    "def cosineDist(df,ind1a,ind2a,ind1b,ind2b):\n",
    "    return distance.cosine(df.ix[ind1a,ind2a],df.ix[ind1b,ind2b])\n",
    "\n",
    "ind1list = ['A','B','C','D','E','F','G','H','I','J']\n",
    "ind2list = ['1','2','3','4','5','6','7']\n",
    "df = X_filled_df\n",
    "x = []\n",
    "y = []\n",
    "for ind1a in ind1list:\n",
    "    for ind1b in ind1list:\n",
    "        for ind2a in ind2list:\n",
    "            for ind2b in ind2list:\n",
    "                if ((ind1a,ind2a) in df.index) and ((ind1b,ind2b) in df.index):\n",
    "                    x.append(spatialDist(ind1a,ind2a,ind1b,ind2b))\n",
    "                    y.append(cosineDist(df,ind1a,ind2a,ind1b,ind2b))\n",
    "import matplotlib.pyplot as plt\n",
    "import seaborn as sns\n",
    "sns.boxplot(np.asarray(x),np.asarray(y))\n",
    "plt.title('Functional vs spatial distance')\n",
    "# plt.ylim(0, 0.3)\n",
    "plt.show()"
   ]
  },
  {
   "cell_type": "code",
   "execution_count": null,
   "metadata": {
    "collapsed": false
   },
   "outputs": [],
   "source": [
    "import matplotlib.pyplot as plt\n",
    "import seaborn as sns\n",
    "\n",
    "g = sns.heatmap(totalRC_df_xz1314,square=False, annot=True, cmap=\"Blues\", cbar=True)\n",
    "plt.title('RC  for XZ13+14 and threshold:'+str(RC_threshold))\n",
    "plt.show()\n",
    "\n",
    "g = sns.heatmap(delta_df_xz1314,square=False, annot=False, cmap=\"Blues\", cbar=True)\n",
    "plt.title('Cosine distance  for XZ13+14 and threshold:'+str(RC_threshold))\n",
    "plt.show()\n",
    "\n",
    "g = sns.heatmap(fluctuation_df_xz1314, square=False, annot=False, cmap=\"Blues\", cbar=True)\n",
    "plt.title('Fluctuations from the mean  for XZ13+14 and threshold:'+str(RC_threshold))\n",
    "plt.show()\n",
    "\n",
    "plt.figure(1)\n",
    "arr = delta_df_xz1314.values\n",
    "g1 = sns.distplot(arr[arr>0],label='xz13+14')\n",
    "plt.legend()\n",
    "plt.title('Distributions of local fluctuations for XZ13+14 and threshold:'+str(RC_threshold))\n",
    "plt.figure(2)\n",
    "arr = fluctuation_df_xz1314.values\n",
    "g1 = sns.distplot(arr[arr>0],label='xz13+14')\n",
    "plt.legend()\n",
    "plt.title('Distributions of fluctuations from the mean for XZ13+14 and threshold:'+str(RC_threshold))\n",
    "plt.show()"
   ]
  },
  {
   "cell_type": "code",
   "execution_count": null,
   "metadata": {
    "collapsed": false
   },
   "outputs": [],
   "source": [
    "y1 = np.asarray(delta_df_xz13)[np.asarray(delta_df_xz13)>0]\n",
    "y2 = np.asarray(delta_df_xz13)[np.asarray(delta_df_xz14)>0]\n",
    "y3 = np.asarray(delta_df_xz1314)[np.asarray(delta_df_xz1314)>0]\n",
    "y4 = np.asarray(local_fluctuation_df)[np.asarray(local_fluctuation_df)>0]\n",
    "sns.boxplot(data=[y1,y2,y3])\n",
    "plt.show()"
   ]
  },
  {
   "cell_type": "code",
   "execution_count": null,
   "metadata": {
    "collapsed": true
   },
   "outputs": [],
   "source": [
    "import matplotlib.pyplot as plt\n",
    "import seaborn as sns\n",
    "plt.figure(1)\n",
    "g1 = sns.heatmap(abs(totalRC_df_xz13),square=False, annot=True, cmap=\"Blues\", cbar=True)\n",
    "plt.title('RC for xz13 and threshold:'+str(RC_threshold))\n",
    "plt.figure(2)\n",
    "g2 = sns.heatmap(abs(totalRC_df_xz14),square=False, annot=True, cmap=\"Blues\", cbar=True)\n",
    "plt.title('RC for xz14 and threshold:'+str(RC_threshold))\n",
    "plt.show()\n",
    "\n",
    "plt.figure(1)\n",
    "g1 = sns.heatmap(abs(delta_df_xz13),square=False, annot=False, cmap=\"Blues\", cbar=True)\n",
    "plt.title('Cosine distance for xz13 and threshold:'+str(RC_threshold))\n",
    "plt.figure(2)\n",
    "g2 = sns.heatmap(abs(delta_df_xz14),square=False, annot=False, cmap=\"Blues\", cbar=True)\n",
    "plt.title('Cosine distance for xz14 and threshold:'+str(RC_threshold))\n",
    "plt.show()\n",
    "\n",
    "plt.figure(1)\n",
    "g1 = sns.heatmap(fluctuation_df_xz13,square=False, annot=False, cmap=\"Blues\", cbar=True)\n",
    "plt.title('Fluctuations from the average for XZ13 and threshold:'+str(RC_threshold))\n",
    "plt.figure(2)\n",
    "g2 = sns.heatmap(fluctuation_df_xz14,square=False, annot=False, cmap=\"Blues\", cbar=True)\n",
    "plt.title('Fluctuations from the average for XZ14 and threshold:'+str(RC_threshold))\n",
    "plt.show()"
   ]
  },
  {
   "cell_type": "code",
   "execution_count": null,
   "metadata": {
    "collapsed": true
   },
   "outputs": [],
   "source": [
    "'''\n",
    "Fluctuations between co-localized regions, measured with cosine distance\n",
    "'''\n",
    "import matplotlib.pyplot as plt\n",
    "import seaborn as sns\n",
    "# # pd.set_option('chop_threshold',0.0001)\n",
    "# # print local_fluctuation_df\n",
    "# # Use abs() to account for very small negative values\n",
    "g = sns.heatmap(abs(local_fluctuation_df),square=False, annot=False, cmap=\"Blues\", cbar=True)\n",
    "plt.title('Local distances between colocalized fragments and threshold:'+str(RC_threshold))\n",
    "plt.show()"
   ]
  },
  {
   "cell_type": "code",
   "execution_count": null,
   "metadata": {
    "collapsed": false
   },
   "outputs": [],
   "source": [
    "'''\n",
    "Spatial vs Genomic correlation.\n",
    "The plot suggests that there is a short scale distance at which cells typically are more dissimilar increasing their\n",
    "distance, then after a threshold distance they start to be more alike, as in the linear sequence: \n",
    "0,1,2,0,1,2,0,1,2....\n",
    "Like there was a periodic pattern in the functinal space, which could correspond to the size of the clones\n",
    "'''\n",
    "def spatialDist(row0,col0,row1,col1):\n",
    "    return np.sqrt(abs(ord(row0)-ord(row1))**2+abs(int(col0)-int(col1))**2)\n",
    "def cosineDist(df,ind0,ind1a,ind2a,ind1b,ind2b):\n",
    "    return distance.cosine(df.ix[ind0,ind1a,ind2a],df.ix[ind0,ind1b,ind2b])\n",
    "ind0list = ['xz13','xz14']\n",
    "ind1list = ['A','B','C','D','E','F','G','H','I','J']\n",
    "ind2list = ['1','2','3','4','5','6','7']\n",
    "df = X_filled_df\n",
    "x = []\n",
    "y = []\n",
    "for ind0 in ind0list:\n",
    "    for ind1a in ind1list:\n",
    "        for ind1b in ind1list:\n",
    "            for ind2a in ind2list:\n",
    "                for ind2b in ind2list:\n",
    "                    if ((ind0,ind1a,ind2a) in df.index) and ((ind0,ind1b,ind2b) in df.index):\n",
    "                        x.append(spatialDist(ind1a,ind2a,ind1b,ind2b))\n",
    "                        y.append(cosineDist(df,ind0,ind1a,ind2a,ind1b,ind2b))\n",
    "import matplotlib.pyplot as plt\n",
    "import seaborn as sns\n",
    "# plt.scatter(np.asarray(x),np.asarray(y))\n",
    "sns.regplot(np.asarray(x),np.asarray(y),x_estimator=np.mean,fit_reg=False)\n",
    "plt.title('Functional vs spatial distance')\n",
    "plt.show()"
   ]
  },
  {
   "cell_type": "code",
   "execution_count": null,
   "metadata": {
    "collapsed": false
   },
   "outputs": [],
   "source": [
    "'''Distance between regions'''\n",
    "from scipy.spatial import distance\n",
    "\n",
    "dist = 'canberra'\n",
    "dm = distance.pdist(X_filled_normalized,dist)\n",
    "# dm = distance.pdist(X_filled_normalized, lambda u, v: np.sqrt(np.dot(u,v)).sum())\n",
    "Y = distance.squareform( dm )\n",
    "\n",
    "import seaborn as sns\n",
    "\n",
    "mask = np.zeros_like(Y)\n",
    "mask[np.diag_indices_from(mask)] = True\n",
    "with sns.axes_style(\"white\"):\n",
    "    g = sns.heatmap(Y, mask=mask, square=True, annot=False, cmap=\"Blues\")\n",
    "    g.set(xticklabels=[])\n",
    "    g.set(yticklabels=[])\n",
    "    \n",
    "plt.show()"
   ]
  },
  {
   "cell_type": "code",
   "execution_count": null,
   "metadata": {
    "collapsed": false
   },
   "outputs": [],
   "source": [
    "'''\n",
    "See the sparsity structure of X\n",
    "'''\n",
    "import matplotlib.pyplot as plt\n",
    "\n",
    "plt.figure(1)\n",
    "plt.spy(X[:,:100])\n",
    "plt.show()"
   ]
  },
  {
   "cell_type": "code",
   "execution_count": null,
   "metadata": {
    "collapsed": false
   },
   "outputs": [],
   "source": [
    "'''Heatmap after imputation'''\n",
    "\n",
    "import seaborn as sns\n",
    "\n",
    "g1 = sns.heatmap(X_red_df,square=False, annot=False, cmap=\"Blues\", cbar=False)\n",
    "plt.title('Data Matrix')\n",
    "g1.set(xticklabels=[])\n",
    "plt.show()\n",
    "# g1.savefig('data_matrix.pdf')\n",
    "\n",
    "g2 = sns.heatmap(X_filled_softimpute, square=False, annot=False, cmap=\"Blues\", cbar=False)\n",
    "plt.title('SoftImpute matrix completion')\n",
    "g2.set(xticklabels=[])\n",
    "plt.show()\n",
    "# g2.savefig('imputed_data_matrix.pdf')"
   ]
  },
  {
   "cell_type": "code",
   "execution_count": null,
   "metadata": {
    "collapsed": false
   },
   "outputs": [],
   "source": [
    "'''Heatmap after normalization'''\n",
    "\n",
    "import seaborn as sns\n",
    "\n",
    "plt.figure(1)\n",
    "g1 = sns.heatmap(X_filled_normalized_df,square=False, annot=False, cmap=\"Blues\", cbar=False)\n",
    "plt.title('Imputed matrix after normalization')\n",
    "g1.set(xticklabels=[])\n",
    "\n",
    "plt.figure(2)\n",
    "g2 = sns.heatmap(X_filled_softimpute, square=False, annot=False, cmap=\"Blues\", cbar=False)\n",
    "plt.title('SoftImpute matrix completion')\n",
    "g2.set(xticklabels=[])\n",
    "\n",
    "plt.show()"
   ]
  },
  {
   "cell_type": "code",
   "execution_count": null,
   "metadata": {
    "collapsed": false
   },
   "outputs": [],
   "source": [
    "'''SVD of the data matrix'''\n",
    "\n",
    "U,s,V = np.linalg.svd(X_filled_normalized)\n",
    "\n",
    "import matplotlib.pyplot as plt\n",
    "for ind in range(3):\n",
    "    plt.figure(ind)\n",
    "    plt.bar(range(V.shape[1]),abs(V[:,ind]))\n",
    "        \n",
    "plt.show()"
   ]
  },
  {
   "cell_type": "code",
   "execution_count": null,
   "metadata": {
    "collapsed": false
   },
   "outputs": [],
   "source": [
    "# '''Shannon entropy'''\n",
    "# from scipy.stats import entropy\n",
    "\n",
    "# shannon = []\n",
    "# Z_13 = np.zeros([11,8])\n",
    "# Z_14 = np.zeros([11,8])\n",
    "# for i in X_filled_normalized_df.index:\n",
    "#     shannon.append( entropy(X_filled_normalized_df.ix[i]) )\n",
    "# for i in range(len(X_filled_normalized_df.index.values)):\n",
    "#     if X_filled_normalized_df.index.values[i][0]=='xz13':\n",
    "#         xx = X_filled_normalized_df.index.values[i][1].lower()\n",
    "#         Z_13[ord(xx) - 96,int(X_filled_normalized_df.index.values[i][2])] = shannon[i]\n",
    "#     if X_filled_normalized_df.index.values[i][0]=='xz14':\n",
    "#         xx = X_filled_normalized_df.index.values[i][1].lower()\n",
    "#         Z_14[ord(xx) - 96,int(X_filled_normalized_df.index.values[i][2])] = shannon[i]\n",
    "\n",
    "# # import matplotlib\n",
    "# # import numpy as np\n",
    "# # import matplotlib.pyplot as plt\n",
    "\n",
    "# # plt.figure(1)\n",
    "# # CS = plt.contour(Z_13)\n",
    "# # plt.clabel(CS, inline=1, fontsize=10)\n",
    "# # plt.title('XZ13')\n",
    "\n",
    "# # plt.figure(2)\n",
    "# # CS = plt.contour(Z_14)\n",
    "# # plt.clabel(CS, inline=1, fontsize=10)\n",
    "# # plt.title('XZ14')\n",
    "\n",
    "# # plt.show()"
   ]
  },
  {
   "cell_type": "code",
   "execution_count": null,
   "metadata": {
    "collapsed": false,
    "scrolled": true
   },
   "outputs": [],
   "source": [
    "from plotly import __version__\n",
    "from plotly.offline import download_plotlyjs, init_notebook_mode, iplot\n",
    "from plotly.offline import plot\n",
    "import plotly.plotly as py\n",
    "import plotly.graph_objs as go\n",
    "init_notebook_mode()\n",
    "'''\n",
    "Plot results\n",
    "'''\n",
    "# py.sign_in('garner1','5dt8q3q49m')\n",
    "data_xz13 = [\n",
    "    go.Contour(\n",
    "        z=shannon_df_xz13.as_matrix(),\n",
    "        x=columns,\n",
    "        y=index\n",
    "    )\n",
    "]\n",
    "data_xz14 = [\n",
    "    go.Contour(\n",
    "        z=shannon_df_xz14.as_matrix(),\n",
    "        x=columns,\n",
    "        y=index\n",
    "    )\n",
    "]\n",
    "plot(data_xz13, filename='contour for xz13b')\n",
    "plot(data_xz14, filename='contour for xz14')\n",
    "\n",
    "# data_xz13 = [\n",
    "#     go.Heatmap(\n",
    "#         z=shannon_df_xz13.as_matrix(),\n",
    "#         x=columns,\n",
    "#         y=index\n",
    "#     )\n",
    "# ]\n",
    "# data_xz14 = [\n",
    "#     go.Heatmap(\n",
    "#         z=shannon_df_xz14.as_matrix(),\n",
    "#         x=columns,\n",
    "#         y=index\n",
    "#     )\n",
    "# ]\n",
    "# plot(data_xz13, filename='heatmap for xz13')\n",
    "# plot(data_xz14, filename='heatmap for xz14')\n",
    "\n",
    "# data_xz13 = [\n",
    "#     go.Heatmap(\n",
    "#         z=totalRC_df_xz13.as_matrix(),\n",
    "#         x=columns,\n",
    "#         y=index\n",
    "#     )\n",
    "# ]\n",
    "# data_xz14 = [\n",
    "#     go.Heatmap(\n",
    "#         z=totalRC_df_xz14.as_matrix(),\n",
    "#         x=columns,\n",
    "#         y=index\n",
    "#     )\n",
    "# ]\n",
    "# plot(data_xz13, filename='RC for xz13')\n",
    "# plot(data_xz14, filename='RC for xz14')"
   ]
  }
 ],
 "metadata": {
  "kernelspec": {
   "display_name": "Python 2",
   "language": "python",
   "name": "python2"
  },
  "language_info": {
   "codemirror_mode": {
    "name": "ipython",
    "version": 2
   },
   "file_extension": ".py",
   "mimetype": "text/x-python",
   "name": "python",
   "nbconvert_exporter": "python",
   "pygments_lexer": "ipython2",
   "version": "2.7.12"
  }
 },
 "nbformat": 4,
 "nbformat_minor": 0
}
