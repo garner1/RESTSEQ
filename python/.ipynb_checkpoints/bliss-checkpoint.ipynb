{
 "cells": [
  {
   "cell_type": "code",
   "execution_count": 131,
   "metadata": {
    "collapsed": true
   },
   "outputs": [],
   "source": [
    "import os\n",
    "import numpy as np\n",
    "from scipy import *\n",
    "from scipy.sparse import *\n",
    "from scipy.spatial import distance\n",
    "from scipy.stats import entropy\n",
    "import pandas as pd\n",
    "from fancyimpute import BiScaler, KNN, NuclearNormMinimization, SoftImpute\n",
    "import matplotlib.pyplot as plt\n",
    "import seaborn as sns\n",
    "\n",
    "def sparseload(file,resolution):\n",
    "    f = open(file)\n",
    "    h = f.readline()\n",
    "    col = []\n",
    "    data = []\n",
    "    chrom = []\n",
    "    for l in f:\n",
    "        l = l.strip()\n",
    "        chrom.append(l.split('\\t')[0])\n",
    "        col.append(int(l.split('\\t')[2])/resolution)\n",
    "        data.append(int(float(l.split('\\t')[3])))\n",
    "    col = np.array(col)\n",
    "    data = np.array(data)\n",
    "    chrom = np.array(chrom)\n",
    "    f.close()\n",
    "    return chrom,col,data\n",
    "\n",
    "def structure_genome(resolution,f):\n",
    "    base = 0\n",
    "    positionlist = []\n",
    "    chromlist = []\n",
    "    border = []\n",
    "    for l in f.readlines():\n",
    "        l = l.strip()\n",
    "        chrom = l.split('\\t')[0]\n",
    "        size = l.split('\\t')[1]\n",
    "        end = base + int(size)/resolution\n",
    "        border.append(end)\n",
    "        array = arange(base, end)\n",
    "        positionlist.extend(array)\n",
    "        chromlist.extend([chrom]*len(array))\n",
    "        base = base + int(size)/resolution\n",
    "    f.close()\n",
    "    return positionlist,chromlist,border\n",
    "\n",
    "def load_data(experiment,resolution,positionlist):\n",
    "    filename = '/home/garner1/Work/dataset/'+str(exp)+'/outdata/q10_chr-loc-strand-umi-pcr-coverage.bed'\n",
    "    chrom, col, data = sparseload(filename,resolution)\n",
    "    return data\n",
    "\n",
    "def load_RCdf(X,experiment,chromlist,positionlist,groupby,RC_threshold,index0_list,index1_list,index2_list,index3_list):\n",
    "    arrays = [chromlist, positionlist]\n",
    "    columns = pd.MultiIndex.from_arrays(arrays, names=['chromosome', 'bin'])\n",
    "    if experiment=='xz_13' or experiment=='xz_14':\n",
    "        row = pd.MultiIndex.from_arrays([index0_list,index1_list],names=['row','column'])\n",
    "    X_df = pd.DataFrame(data=X,index=row,columns=columns)\n",
    "    '''\n",
    "    Remove rows with 0 read counts\n",
    "    '''\n",
    "    X_df = X_df.loc[~(X_df==0).all(axis=1)]\n",
    "\n",
    "    if groupby=='10-15-reduced':\n",
    "        X_red_df = X_df.groupby(level=['patient','type','set']).sum()\n",
    "    if groupby=='13-14-reduced':\n",
    "        X_red_df = X_df.groupby(level=['row','column']).sum()\n",
    "    if groupby=='none':\n",
    "        X_red_df = X_df\n",
    "    '''\n",
    "    Set zero columns\n",
    "    '''\n",
    "    mask = X==0\n",
    "    row_sum = (~mask).sum(axis=0)\n",
    "    mask = row_sum==0\n",
    "    zero_col = np.arange(X.shape[1])[mask]\n",
    "    '''\n",
    "    Remove columns with 0 read counts\n",
    "    '''\n",
    "    X_red_df = X_red_df[X_red_df.columns[(X_red_df != 0).any()]]\n",
    "    '''\n",
    "    Remove rows with read counts less than threshold\n",
    "    '''\n",
    "    X_red_df = X_red_df.loc[~(X_red_df.sum(axis=1)<RC_threshold)]\n",
    "    '''\n",
    "    Define the data matrix\n",
    "    '''\n",
    "    X = X_red_df.as_matrix()\n",
    "    return X_df,X_red_df,X,zero_col"
   ]
  },
  {
   "cell_type": "code",
   "execution_count": 132,
   "metadata": {
    "collapsed": true
   },
   "outputs": [],
   "source": [
    "resolution = 1000000\n",
    "RC_threshold = 0\n",
    "# f = open('/home/garner1/Work/pipelines/data/hg19-chr-sizes.txt')\n",
    "f = open('/home/garner1/Work/pipelines/data/mm9-chr-sizes.txt')"
   ]
  },
  {
   "cell_type": "code",
   "execution_count": 133,
   "metadata": {
    "collapsed": false
   },
   "outputs": [],
   "source": [
    "positionlist,chromlist,border = structure_genome(resolution,f)\n",
    "exp = 'rm11'\n",
    "X_rm11 = load_data(exp,resolution,positionlist)\n",
    "exp = 'rm12'\n",
    "X_rm12 = load_data(exp,resolution,positionlist)\n",
    "X11_df = pd.Series(X_rm11)\n",
    "X12_df = pd.Series(X_rm12)\n",
    "df = pd.concat([X11_df,X12_df],axis=1)\n",
    "df = df / df.sum(axis=0) \n",
    "data = np.asarray(df)"
   ]
  },
  {
   "cell_type": "code",
   "execution_count": 134,
   "metadata": {
    "collapsed": false
   },
   "outputs": [],
   "source": [
    "plt.figure(1)\n",
    "g1 = sns.heatmap(data, square=False, annot=False, cmap=\"Blues\", cbar=False)\n",
    "plt.title('rm11 and rm12 DSB heatmap')\n",
    "g1.set(yticklabels=[])\n",
    "\n",
    "plt.show()"
   ]
  },
  {
   "cell_type": "code",
   "execution_count": 136,
   "metadata": {
    "collapsed": false
   },
   "outputs": [],
   "source": [
    "plt.plot((data[:,1]-data[:,0])/data[:,0],'o')\n",
    "# axes = plt.gca()\n",
    "# axes.set_ylim([-1,1])\n",
    "plt.show()"
   ]
  }
 ],
 "metadata": {
  "kernelspec": {
   "display_name": "Python 2",
   "language": "python",
   "name": "python2"
  },
  "language_info": {
   "codemirror_mode": {
    "name": "ipython",
    "version": 2
   },
   "file_extension": ".py",
   "mimetype": "text/x-python",
   "name": "python",
   "nbconvert_exporter": "python",
   "pygments_lexer": "ipython2",
   "version": "2.7.11"
  }
 },
 "nbformat": 4,
 "nbformat_minor": 0
}
